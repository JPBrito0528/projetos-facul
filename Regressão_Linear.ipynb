{
  "cells": [
    {
      "cell_type": "markdown",
      "metadata": {
        "id": "vePEKSD4kQr0"
      },
      "source": [
        "# TP3 - Regressão Linear"
      ]
    },
    {
      "cell_type": "code",
      "execution_count": null,
      "metadata": {
        "id": "Tr-k0GKPkQr4"
      },
      "outputs": [],
      "source": [
        "import numpy as np\n",
        "import pandas as pd\n",
        "import scipy as sp\n",
        "import matplotlib.pyplot as plt\n",
        "%matplotlib inline"
      ]
    },
    {
      "cell_type": "markdown",
      "metadata": {
        "id": "Ijd7BxMHkQr6"
      },
      "source": [
        "# 1\n",
        "\n",
        "Mede-se a altura de um foguete em $\\Delta t$ s fixos como pares de dados $(s,t)$ com unidades (s,m). Vamos supor o seguinte modelo:\n",
        "\n",
        "$$ s = a+bt+ct^2 $$\n",
        "\n",
        "O modelo geral para aplicação de uma regressão linear é dado por:\n",
        "\n",
        "$$ y=\\omega_0+\\omega_1 x^{(1)} +...+ \\omega_D x^{(D)} $$\n",
        "\n",
        "que é equivalente a termos um $x^{(0)}=1$.\n",
        "\n",
        "Neste casos específico, a,b e c representam os pesos (que são as incógnitas do problema) e $x^{(1)}$ e $x^{(2)}$ são $t$ e $t^2$, respetivamente. Os pesos variam linearmente com as features, $x$ , daí estarmos numa situação de regressão linear. Assim:\n",
        "\n",
        "$$ Y=\\left[\\begin{array}{c}s_0 \\\\ s_1 \\\\ \\vdots \\\\ s_D \\end{array}\\right] , \\qquad X=\\left[\\begin{array}{ccc} 1&t_0&t_0^2 \\\\ 1&t_1&t_1^2 \\\\ \\vdots&\\vdots&\\vdots \\\\ 1&t_D&t_D^2 \\end{array}\\right]$$\n",
        "\n",
        "## a)\n",
        "\n",
        "A incógnita é $\\omega$. $y=s$ e $x=t$.\n",
        "\n",
        "$$ L(\\omega)=(Y-X^T \\omega)^T (Y-X^T \\omega)=Y^T Y -Y^TX^T\\omega -\\omega^TXY+\\omega^T XX^T\\omega \\\\ \\omega^* = (X^TX)^{-1}X^T Y $$\n",
        "\n",
        "Sendo que este resultado é obtido igualando a derivada da função Loss a 0, ou seja, faz-se o processo de encontrar um mínimo desta função $\\to$ numa regressão linear pretende-se, pois, minimizar as perdas."
      ]
    },
    {
      "cell_type": "code",
      "execution_count": null,
      "metadata": {
        "id": "uiS3mNTikQr7",
        "outputId": "0611bd01-42e4-45d5-d1c4-f7a14fb4f8e9"
      },
      "outputs": [
        {
          "data": {
            "image/png": "[encoded data removed]",
            "text/plain": [
              "<Figure size 432x288 with 1 Axes>"
            ]
          },
          "metadata": {
            "needs_background": "light"
          },
          "output_type": "display_data"
        }
      ],
      "source": [
        "t = np.array([5,10,15,20,25,30])\n",
        "s = np.array([722,1073,1178,1177,781,102])\n",
        "\n",
        "def poly_regression(x,y,n,dados_teste):\n",
        "    '''\n",
        "    x : dados da variável independente\n",
        "    y : dados da variável dependente\n",
        "    n : número de pesos do modelo\n",
        "    '''\n",
        "    # criar matriz X\n",
        "    X = np.zeros((len(y),n+1)) # o '+1' é incluindo devido à coluna de x_0 -> nº colunas=nºfeatures(n)+1\n",
        "    X[:,0] = np.ones(len(y))\n",
        "    for i in range(1,n+1):\n",
        "        X[:,i] = x**i\n",
        "\n",
        "    # criar matriz Y -> é os dados de y mas em forma de coluna\n",
        "    Y = y.reshape((len(y),1))\n",
        "\n",
        "    # matriz que é o inverso do produto de X pela sua transposta\n",
        "    X_new = np.linalg.inv(np.dot(np.transpose(X),X))\n",
        "\n",
        "    # matriz que é o produto da transposta de X por Y\n",
        "    w_almost = np.dot(np.transpose(X),Y)\n",
        "\n",
        "    # matriz com os pesos\n",
        "    w = np.dot(X_new,w_almost)\n",
        "\n",
        "    #dados previstos para entradas de teste\n",
        "    X_teste = np.zeros((len(dados_teste),n+1))\n",
        "    X_teste[:,0] = np.ones(len(dados_teste))\n",
        "    for i in range(1,n+1):\n",
        "        X_teste[:,i] = dados_teste**i\n",
        "\n",
        "    previsao = np.dot(X_teste,w)\n",
        "\n",
        "    return previsao,w\n",
        "\n",
        "time = np.linspace(np.min(t),np.max(t),1000)\n",
        "dados,parametros = poly_regression(t,s,2,time)\n",
        "dados1,parametros1 = poly_regression(t,s,5,time)\n",
        "plt.plot(time,dados,label='n=2')\n",
        "plt.plot(time,dados1,label='n=5')\n",
        "plt.plot(t,s,'o')\n",
        "plt.legend()\n",
        "plt.grid();"
      ]
    },
    {
      "cell_type": "markdown",
      "metadata": {
        "id": "66xSlPgYkQr9"
      },
      "source": [
        "## b)\n",
        "\n",
        "Calcular os valores de $a$,$b$ e $c$ usando a regressão linear de ridge, com $\\lambda=0.5$ (regularizador que tem como objetivo diminuir a variância).\n",
        "\n",
        "Para o caso da regressão de ridge, a solução para os pesos é dada por:\n",
        "\n",
        "$$ \\omega^* = (X^T X+\\lambda I)^{-1}X^TY $$"
      ]
    },
    {
      "cell_type": "code",
      "execution_count": null,
      "metadata": {
        "id": "mSEg7fqqkQr-",
        "outputId": "aa1ab9fe-59e3-4099-8b5b-f177340a8d4f"
      },
      "outputs": [
        {
          "data": {
            "image/png": "[encoded data removed]",
            "text/plain": [
              "<Figure size 432x288 with 1 Axes>"
            ]
          },
          "metadata": {
            "needs_background": "light"
          },
          "output_type": "display_data"
        }
      ],
      "source": [
        "def Ridge_Regression(x,y,n,l,dados_teste):\n",
        "    X = np.zeros((len(y),n+1)) # o '+1' é incluindo devido à coluna de x_0 -> nº colunas=nºfeatures(n)+1\n",
        "    X[:,0] = np.ones(len(y))\n",
        "    for i in range(1,n+1):\n",
        "        X[:,i] = x**i\n",
        "\n",
        "    Y = y.reshape((len(y),1))\n",
        "    I = np.identity(n+1)\n",
        "    w = np.linalg.inv(np.dot(np.transpose(X),X)+l*I)\n",
        "    w = np.dot(w,np.dot(np.transpose(X),Y))\n",
        "\n",
        "    X_teste = np.zeros((len(dados_teste),n+1))\n",
        "    X_teste[:,0] = np.ones(len(dados_teste))\n",
        "    for i in range(1,n+1):\n",
        "        X_teste[:,i] = dados_teste**i\n",
        "\n",
        "    previsao = np.dot(X_teste,w)\n",
        "\n",
        "    return previsao,w\n",
        "d_new,par_new = Ridge_Regression(t,s,2,0.5,time)\n",
        "d_new1,par_new1 = Ridge_Regression(t,s,6,0.5,time)\n",
        "\n",
        "plt.plot(time,d_new,label='n=2')\n",
        "plt.plot(time,d_new1,label='n=6')\n",
        "# plt.plot(time,dados)\n",
        "plt.plot(t,s,'o')\n",
        "plt.legend()\n",
        "plt.grid();\n"
      ]
    },
    {
      "cell_type": "markdown",
      "metadata": {
        "id": "W9a4y4VgkQr-"
      },
      "source": [
        "## c)\n",
        "\n",
        "$$ MSE = \\frac{1}{n}\\sum_{i=1}^{n}(y_i-\\hat{y}_i)^2 $$\n",
        "\n",
        "onde $y_i$ corresponde a um valor observado e $\\hat{y}_i$ a um valor previsto pelo modelo."
      ]
    },
    {
      "cell_type": "code",
      "execution_count": null,
      "metadata": {
        "id": "rf1rYvLzkQr_",
        "outputId": "63fd7c48-94f9-4d37-cbc8-5660ef0e6b09"
      },
      "outputs": [
        {
          "name": "stdout",
          "output_type": "stream",
          "text": [
            "5.907310344547447e-21\n",
            "1245.6230069956566\n"
          ]
        }
      ],
      "source": [
        "yc = s.copy()\n",
        "xc = t.copy()\n",
        "\n",
        "def MSE(y_obs,y_prev):\n",
        "    return (1/len(y_obs))*np.sum(y_obs-y_prev)**2\n",
        "\n",
        "data_c,par_c = poly_regression(xc,yc,2,xc)\n",
        "print(MSE(yc,data_c))\n",
        "\n",
        "data2_c,par2_c = Ridge_Regression(xc,yc,2,0.5,xc)\n",
        "print(MSE(yc,data2_c))\n"
      ]
    },
    {
      "cell_type": "markdown",
      "metadata": {
        "id": "8TjOYq7TkQr_"
      },
      "source": [
        "## d)"
      ]
    },
    {
      "cell_type": "code",
      "execution_count": null,
      "metadata": {
        "id": "2zrPxjkWkQsA"
      },
      "outputs": [],
      "source": []
    }
  ],
  "metadata": {
    "interpreter": {
      "hash": "c4fa7a8e2c3f2299711ab18e0fc38a3fa48edeff36fe54890a06c553fc80f525"
    },
    "kernelspec": {
      "display_name": "Python 3.8.1 32-bit (system)",
      "language": "python",
      "name": "python3"
    },
    "language_info": {
      "codemirror_mode": {
        "name": "ipython",
        "version": 3
      },
      "file_extension": ".py",
      "mimetype": "text/x-python",
      "name": "python",
      "nbconvert_exporter": "python",
      "pygments_lexer": "ipython3",
      "version": "3.8.1"
    },
    "orig_nbformat": 4,
    "colab": {
      "provenance": []
    }
  },
  "nbformat": 4,
  "nbformat_minor": 0
}