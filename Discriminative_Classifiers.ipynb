{
  "cells": [
    {
      "cell_type": "markdown",
      "metadata": {
        "id": "2SddLom3kPdq"
      },
      "source": [
        "# Set 4. Discriminative Classifiers"
      ]
    },
    {
      "cell_type": "code",
      "execution_count": null,
      "metadata": {
        "id": "4ktVp2h2kPdu"
      },
      "outputs": [],
      "source": [
        "import numpy as np\n",
        "import pandas as pd\n",
        "import matplotlib.pyplot as plt\n",
        "from scipy.stats import multivariate_normal\n",
        "%matplotlib inline"
      ]
    },
    {
      "cell_type": "markdown",
      "metadata": {
        "id": "Q-zNn_WPkPdx"
      },
      "source": [
        "## 1\n",
        "\n",
        "Considere um problema de classes 2D que involve duas classes, para as quais os modelos verdadeiros são distribuições Gaussianas com médias $\\mu_0 = \\begin{bmatrix}0&0\\end{bmatrix}^t$ e $\\mu_1 = \\begin{bmatrix}3&3\\end{bmatrix}^t$, e matrizes de covariância $\\Sigma_0=\\begin{bmatrix}1.1 & 0.3 \\\\ 0.3 & 1.9\\end{bmatrix}$ e $\\Sigma_1=\\begin{bmatrix}1.1 & 0.0 \\\\ 0.0 & 1.9\\end{bmatrix}$. Em python:\n",
        "\n",
        "**a)** Forme e represente graficamente um data set $X$ que consiste em 50 pontos da classe $C_0$ e outros 40 pontos da classe $C_1$."
      ]
    },
    {
      "cell_type": "code",
      "execution_count": null,
      "metadata": {
        "id": "1YFN59AxkPdy",
        "outputId": "2ca68c48-a223-4296-faa9-f5c4b4303b9b"
      },
      "outputs": [
        {
          "data": {
            "image/png": "[encoded data removed]",
            "text/plain": [
              "<Figure size 432x288 with 1 Axes>"
            ]
          },
          "metadata": {
            "needs_background": "light"
          },
          "output_type": "display_data"
        }
      ],
      "source": [
        "u_0 = np.array([0,0]).T  # médias\n",
        "u_1 = np.array([3,3]).T\n",
        "\n",
        "cov0 = np.array([[1.1,0.3],[0.3,1.9]])    # covariâncias\n",
        "cov1 = np.array([[1.1,0.0],[0.0,1.9]])\n",
        "\n",
        "samples0 = np.random.multivariate_normal(u_0,cov0,size=50)\n",
        "c0_coluna = np.zeros((len(samples0),1))\n",
        "samples0 = np.append(samples0,c0_coluna,axis=1)\n",
        "\n",
        "samples1 = np.random.multivariate_normal(u_1,cov1,size=40)\n",
        "c1_coluna = np.ones((len(samples1),1))\n",
        "samples1 = np.append(samples1,c1_coluna,axis=1)\n",
        "\n",
        "dataset = np.concatenate((samples0,samples1))\n",
        "feature0 = dataset[:,0]\n",
        "feature1 = dataset[:,1]\n",
        "classe = dataset[:,2]\n",
        "\n",
        "plt.plot(feature0[classe==0],feature1[classe==0],'b.',label='Classe 0')\n",
        "plt.plot(feature0[classe==1],feature1[classe==1],'r.',label='Classe 1')\n",
        "plt.grid()\n",
        "plt.legend();"
      ]
    },
    {
      "cell_type": "markdown",
      "metadata": {
        "id": "EXq3Wss0kPd0"
      },
      "source": [
        "**b)** Represente graficamente a fronteira entre as classes, aprendendo um modelo Gaussiano para cada uma das classes a partir dos dados"
      ]
    },
    {
      "cell_type": "code",
      "execution_count": null,
      "metadata": {
        "id": "ZOb_tgBOkPd1",
        "outputId": "69ce1b7e-8b20-495e-ba7a-110250442a92"
      },
      "outputs": [
        {
          "data": {
            "image/png": "[encoded data removed]",
            "text/plain": [
              "<Figure size 432x288 with 1 Axes>"
            ]
          },
          "metadata": {
            "needs_background": "light"
          },
          "output_type": "display_data"
        }
      ],
      "source": [
        "def model(x_train,x_test):\n",
        "    x_teste = np.array(x_test).T\n",
        "    feature0 = x_train[:,0]\n",
        "    feature1 = x_train[:,1]\n",
        "    classe = x_train[:,2]\n",
        "\n",
        "    # cálculo dos vetores com as médias de features 1 e 2\n",
        "    u_0 = np.array([np.mean(feature0[classe==0]),np.mean(feature1[classe==0])],dtype=float)\n",
        "    u_1 = np.array([np.mean(feature0[classe==1]),np.mean(feature1[classe==1])],dtype=float)\n",
        "\n",
        "    # cálculo das matrizes de covariância\n",
        "    cov_0 = np.cov([feature0[classe==0],feature1[classe==0]])\n",
        "    cov_1 = np.cov(feature0[classe==1],feature1[classe==1])\n",
        "\n",
        "    # cálculo dos priors\n",
        "    p_classe0 = len(feature0[classe==0])/len(feature0)\n",
        "    p_classe1 = len(feature0[classe==1])/len(feature0)\n",
        "\n",
        "    # cálculo das likelihoods\n",
        "    pxtrain_by_classe0 = multivariate_normal.pdf(x_teste,mean=u_0,cov=cov_0)\n",
        "    pxtrain_by_classe1 = multivariate_normal.pdf(x_teste,mean=u_1,cov=cov_1)\n",
        "\n",
        "    # cálculo da evidência\n",
        "    pxtrain = p_classe0*pxtrain_by_classe0+p_classe1*pxtrain_by_classe1\n",
        "\n",
        "    # cálculos dos posteriors\n",
        "    pclasse0_by_x = pxtrain_by_classe0*p_classe0/pxtrain\n",
        "    pclasse1_by_x = pxtrain_by_classe1*p_classe1/pxtrain\n",
        "\n",
        "    if pclasse0_by_x > pclasse1_by_x:\n",
        "        return True\n",
        "    else:\n",
        "        return False\n",
        "\n",
        "feature0_train = np.linspace(-4,6,100).reshape(100,1)\n",
        "feature1_train = np.linspace(-4,6,100).reshape(100,1)\n",
        "\n",
        "results = np.zeros((100,100))\n",
        "\n",
        "for i in range(len(feature0_train)):\n",
        "    for j in range(len(feature1_train)):\n",
        "        results[i,j] = model(dataset,np.array([feature0_train[i],feature1_train[j]]))\n",
        "\n",
        "for i in range(100):\n",
        "    for j in range(100):\n",
        "        if results[i,j]==1:\n",
        "            plt.plot(feature0_train[i],feature1_train[j],'b.')\n",
        "        else:\n",
        "            plt.plot(feature0_train[i],feature1_train[j],'r.')"
      ]
    },
    {
      "cell_type": "markdown",
      "metadata": {
        "id": "Kxtpl5gAkPd2"
      },
      "source": [
        "**c)** Represente graficamente a fronteira entre as classes, aprendendo um modelo Gaussiano para cada classe com matrizes de covariância partilhadas"
      ]
    },
    {
      "cell_type": "code",
      "execution_count": null,
      "metadata": {
        "id": "G8lgNo7tkPd3"
      },
      "outputs": [],
      "source": []
    },
    {
      "cell_type": "markdown",
      "metadata": {
        "id": "Et8NVMUukPd3"
      },
      "source": [
        "**d)** Represente graficamente a fronteira entre as classes, aprendendo o modelo de regressão logística a partir dos dados"
      ]
    },
    {
      "cell_type": "code",
      "execution_count": null,
      "metadata": {
        "id": "gA43PmyBkPd4"
      },
      "outputs": [],
      "source": []
    },
    {
      "cell_type": "markdown",
      "metadata": {
        "id": "i7xsVdzDkPd4"
      },
      "source": [
        "**e)** Repetir as alíneas a)-d) para o caso em que $\\Sigma_1=\\Sigma_0$"
      ]
    },
    {
      "cell_type": "code",
      "execution_count": null,
      "metadata": {
        "id": "KEUJsZ1qkPd5"
      },
      "outputs": [],
      "source": []
    },
    {
      "cell_type": "markdown",
      "metadata": {
        "id": "Ed5HwHCVkPd5"
      },
      "source": [
        "## 2\n",
        "\n",
        "Considere as observações 0.5, 1.8, 3.6 de $C_1$ e 4.5, 5.1, 6.5 de $C_0$."
      ]
    },
    {
      "cell_type": "markdown",
      "metadata": {
        "id": "ngZ6qE40kPd5"
      },
      "source": [
        "**a)** Calcule a Negative Log-Likelihood Loss para o modelo de regressão logística, para $\\theta_0=4.1$ e $\\theta_1=1.5$"
      ]
    },
    {
      "cell_type": "code",
      "execution_count": null,
      "metadata": {
        "id": "5KqVT7PxkPd5",
        "outputId": "8e4a7b86-8456-4af3-c89d-fa0175e609a3"
      },
      "outputs": [
        {
          "name": "stdout",
          "output_type": "stream",
          "text": [
            "[-7.79789479e-03 -1.11315536e-03 -7.48490286e-05 -1.94044196e-05\n",
            " -7.88929371e-06 -9.66098073e-07]\n"
          ]
        },
        {
          "data": {
            "text/plain": [
              "21.1590141589871"
            ]
          },
          "execution_count": 24,
          "metadata": {},
          "output_type": "execute_result"
        }
      ],
      "source": [
        "X = np.array([[1,0.5],\n",
        "              [1,1.8],\n",
        "              [1,3.6],\n",
        "              [1,4.5],\n",
        "              [1,5.1],\n",
        "              [1,6.5]])\n",
        "\n",
        "wa = np.array([4.1,1.5])\n",
        "wb = np.array([4.1,1.5])\n",
        "wc = np.array([4.1,15])\n",
        "y = np.array([0,0,0,1,1,1])\n",
        "\n",
        "def Sigmoide(X,w):\n",
        "    p = np.dot(w,X.T)\n",
        "    return 1/(1+np.exp(-p))\n",
        "\n",
        "def NLL(X,W,Y):\n",
        "    p = Sigmoide(X,W)\n",
        "    print(np.log(p))\n",
        "    return -np.sum(Y*np.log(p)+(1-y)*np.log(1-p))\n",
        "\n",
        "NLL(X,w,y)"
      ]
    },
    {
      "cell_type": "code",
      "execution_count": null,
      "metadata": {
        "id": "oulXyyhmkPd6"
      },
      "outputs": [],
      "source": []
    }
  ],
  "metadata": {
    "interpreter": {
      "hash": "c4fa7a8e2c3f2299711ab18e0fc38a3fa48edeff36fe54890a06c553fc80f525"
    },
    "kernelspec": {
      "display_name": "Python 3.8.1 32-bit (system)",
      "language": "python",
      "name": "python3"
    },
    "language_info": {
      "codemirror_mode": {
        "name": "ipython",
        "version": 3
      },
      "file_extension": ".py",
      "mimetype": "text/x-python",
      "name": "python",
      "nbconvert_exporter": "python",
      "pygments_lexer": "ipython3",
      "version": "3.8.1"
    },
    "orig_nbformat": 4,
    "colab": {
      "provenance": []
    }
  },
  "nbformat": 4,
  "nbformat_minor": 0
}